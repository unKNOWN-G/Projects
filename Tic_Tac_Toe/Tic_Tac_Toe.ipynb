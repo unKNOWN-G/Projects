{
 "cells": [
  {
   "cell_type": "code",
   "execution_count": 144,
   "metadata": {},
   "outputs": [
    {
     "name": "stdout",
     "output_type": "stream",
     "text": [
      "2\n"
     ]
    }
   ],
   "source": [
    "# Project Tic Tac Toe\n",
    "matrix=[]\n",
    "num=int(input())\n",
    "x=2*num-1\n",
    "n=(x-1)*3+5\n",
    "for i in range(0,n):\n",
    "    new=[]\n",
    "    for j in range(0,n):\n",
    "        new.append(\" \")\n",
    "    matrix.append(new)\n",
    "       \n",
    "for i in range(x,n,x+1):\n",
    "    for j in range(0,n):\n",
    "        matrix[i][j]=\"-\"\n",
    "        matrix[j][i]=\"|\"\n",
    "for x in range (x,n,x+1):\n",
    "    for y in range(x,n,x+1):\n",
    "            matrix[x][y]=\"+\"\n",
    "\n"
   ]
  },
  {
   "cell_type": "code",
   "execution_count": 145,
   "metadata": {},
   "outputs": [
    {
     "name": "stdout",
     "output_type": "stream",
     "text": [
      "      |       |       \n",
      "      |       |       \n",
      "      |       |       \n",
      "- - - + - - - + - - - \n",
      "      |       |       \n",
      "      |       |       \n",
      "      |       |       \n",
      "- - - - - - - + - - - \n",
      "      |       |       \n",
      "      |       |       \n",
      "      |       |       \n"
     ]
    }
   ],
   "source": [
    "\n",
    "for x in range (0,n):\n",
    "    for y in range(0,n):\n",
    "        print(matrix[x][y], end =\" \")\n",
    "    print()"
   ]
  },
  {
   "cell_type": "code",
   "execution_count": null,
   "metadata": {},
   "outputs": [],
   "source": []
  },
  {
   "cell_type": "code",
   "execution_count": null,
   "metadata": {},
   "outputs": [],
   "source": []
  }
 ],
 "metadata": {
  "kernelspec": {
   "display_name": "Python 3",
   "language": "python",
   "name": "python3"
  },
  "language_info": {
   "codemirror_mode": {
    "name": "ipython",
    "version": 3
   },
   "file_extension": ".py",
   "mimetype": "text/x-python",
   "name": "python",
   "nbconvert_exporter": "python",
   "pygments_lexer": "ipython3",
   "version": "3.8.3"
  }
 },
 "nbformat": 4,
 "nbformat_minor": 4
}
